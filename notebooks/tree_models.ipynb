{
 "cells": [
  {
   "cell_type": "code",
   "execution_count": null,
   "id": "a6b403b8",
   "metadata": {},
   "outputs": [
    {
     "name": "stdout",
     "output_type": "stream",
     "text": [
      "✅ Loaded 2063 rows and columns: ['time', 'team', 'event', 'start_x', 'start_y', 'end_x', 'end_y', 'possession_duration', 'zone', 'dist_to_goal', 'possession_streak', 'pass_distance', 'team_encoded', 'event_encoded']\n"
     ]
    }
   ],
   "source": [
    "import os\n",
    "import pandas as pd\n",
    "from sklearn.model_selection import train_test_split\n",
    "from sklearn.metrics import accuracy_score, classification_report, confusion_matrix, f1_score\n",
    "from sklearn.ensemble import RandomForestClassifier, GradientBoostingClassifier\n",
    "import xgboost as xgb\n",
    "import matplotlib.pyplot as plt\n",
    "import seaborn as sns\n",
    "\n",
    "CLEAN_FILE_PATH = \"../data/processed/cleaned_data.csv\"\n",
    "\n",
    "df = pd.read_csv(CLEAN_FILE_PATH)\n",
    "\n",
    "print(f\"✅ Loaded {len(df)} rows and columns: {list(df.columns)}\")\n",
    "# --- Ensure required columns exist ---\n",
    "if \"x_norm\" not in df.columns or \"y_norm\" not in df.columns:\n",
    "    df[\"x_norm\"] = df[\"end_x\"] / 50.0\n",
    "    df[\"y_norm\"] = df[\"end_y\"] / 25.0\n",
    "\n",
    "if \"team_encoded\" not in df.columns and \"team\" in df.columns:\n",
    "    df[\"team_encoded\"] = df[\"team\"].astype(\"category\").cat.codes\n",
    "\n",
    "if \"event_encoded\" not in df.columns and \"event\" in df.columns:\n",
    "    df[\"event_encoded\"] = df[\"event\"].astype(\"category\").cat.codes\n",
    "\n",
    "features = [\"x_norm\", \"y_norm\", \"team_encoded\"]\n",
    "target = \"event_encoded\"\n",
    "x = df[features]\n",
    "y = df[target]\n",
    "\n",
    "x_train, x_test, y_train, y_test = train_test_split(\n",
    "    x,y, test_size = 0.2, random_state=42\n",
    ")\n",
    "\n",
    "\n"
   ]
  },
  {
   "cell_type": "code",
   "execution_count": 6,
   "id": "86e32cee",
   "metadata": {},
   "outputs": [
    {
     "name": "stdout",
     "output_type": "stream",
     "text": [
      "RandomForest Results:\n",
      "Accuracy: 0.6102\n",
      "              precision    recall  f1-score   support\n",
      "\n",
      "           0       1.00      1.00      1.00        15\n",
      "           1       1.00      1.00      1.00         9\n",
      "           2       0.68      0.70      0.69       240\n",
      "           3       0.31      0.32      0.32        68\n",
      "           4       0.54      0.46      0.49        81\n",
      "\n",
      "    accuracy                           0.61       413\n",
      "   macro avg       0.71      0.70      0.70       413\n",
      "weighted avg       0.61      0.61      0.61       413\n",
      "\n",
      "GradientBoosting Results:\n",
      "Accuracy: 0.6707\n",
      "              precision    recall  f1-score   support\n",
      "\n",
      "           0       1.00      1.00      1.00        15\n",
      "           1       1.00      1.00      1.00         9\n",
      "           2       0.67      0.90      0.77       240\n",
      "           3       0.37      0.16      0.22        68\n",
      "           4       0.71      0.33      0.45        81\n",
      "\n",
      "    accuracy                           0.67       413\n",
      "   macro avg       0.75      0.68      0.69       413\n",
      "weighted avg       0.65      0.67      0.63       413\n",
      "\n",
      "XGBoost Results:\n",
      "Accuracy: 0.6513\n",
      "              precision    recall  f1-score   support\n",
      "\n",
      "           0       1.00      1.00      1.00        15\n",
      "           1       1.00      1.00      1.00         9\n",
      "           2       0.66      0.85      0.74       240\n",
      "           3       0.31      0.24      0.27        68\n",
      "           4       0.89      0.31      0.46        81\n",
      "\n",
      "    accuracy                           0.65       413\n",
      "   macro avg       0.77      0.68      0.69       413\n",
      "weighted avg       0.67      0.65      0.62       413\n",
      "\n"
     ]
    }
   ],
   "source": [
    "models = {\n",
    "    \"RandomForest\": RandomForestClassifier(n_estimators=100, random_state= 42, class_weight='balanced'),\n",
    "    \"GradientBoosting\": GradientBoostingClassifier(n_estimators = 100, random_state=42),\n",
    "    \"XGBoost\": xgb.XGBClassifier(n_estimators=100, learning_rate = 0.1, max_depth=5, objective=\"multi:softmax\", num_class= len(df[\"event_encoded\"].unique()), random_state=42)\n",
    "                                 \n",
    "}\n",
    "results = []\n",
    "\n",
    "for name, model in models.items():\n",
    "    model.fit(x_train, y_train)\n",
    "\n",
    "    y_pred = model.predict(x_test)\n",
    "    accuracy = accuracy_score(y_test, y_pred)\n",
    "    f1 = f1_score(y_test, y_pred, average=\"weighted\")\n",
    "\n",
    "    print(f\"{name} Results:\")\n",
    "    print(f\"Accuracy: {accuracy:.4f}\")\n",
    "    print(classification_report(y_test, y_pred))\n",
    "\n",
    "    results.append({\n",
    "        \"Model\": name,\n",
    "        \"Accuracy\": accuracy,\n",
    "        \"F1 Score\": f1\n",
    "    })\n",
    "    \n",
    "\n"
   ]
  },
  {
   "cell_type": "code",
   "execution_count": 11,
   "id": "8cb44bdf",
   "metadata": {},
   "outputs": [
    {
     "name": "stderr",
     "output_type": "stream",
     "text": [
      "/var/folders/m3/kdstmnt92p55lscwn6jqbb780000gn/T/ipykernel_40773/4072074149.py:2: FutureWarning: \n",
      "\n",
      "Passing `palette` without assigning `hue` is deprecated and will be removed in v0.14.0. Assign the `y` variable to `hue` and set `legend=False` for the same effect.\n",
      "\n",
      "  sns.barplot(x=importances, y=features, orient='h', palette='viridis')\n"
     ]
    },
    {
     "data": {
      "image/png": "[encoded data removed]",
      "text/plain": [
       "<Figure size 640x480 with 1 Axes>"
      ]
     },
     "metadata": {},
     "output_type": "display_data"
    }
   ],
   "source": [
    "importances = models[\"RandomForest\"].feature_importances_\n",
    "sns.barplot(x=importances, y=features, orient='h', palette='viridis')\n",
    "plt.title(\"Random Forest Feature Importance\")\n",
    "plt.xlabel(\"Importance Score\")\n",
    "plt.ylabel(\"Feature\")\n",
    "plt.tight_layout()\n",
    "plt.show()"
   ]
  }
 ],
 "metadata": {
  "kernelspec": {
   "display_name": "venv",
   "language": "python",
   "name": "python3"
  },
  "language_info": {
   "codemirror_mode": {
    "name": "ipython",
    "version": 3
   },
   "file_extension": ".py",
   "mimetype": "text/x-python",
   "name": "python",
   "nbconvert_exporter": "python",
   "pygments_lexer": "ipython3",
   "version": "3.11.7"
  }
 },
 "nbformat": 4,
 "nbformat_minor": 5
}
