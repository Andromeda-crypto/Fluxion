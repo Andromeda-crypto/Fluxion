{
 "cells": [
  {
   "cell_type": "code",
   "execution_count": null,
   "id": "a6b403b8",
   "metadata": {},
   "outputs": [],
   "source": [
    "import os\n",
    "import pandas as pd\n",
    "from sklearn.model_selection import train_test_split\n",
    "from sklearn.ensemble import RandomForestClassifier\n",
    "from sklearn.metrics import classification_report,  accuracy_score, ConfusionMatrixDisplay\n",
    "import matplotlib.pyplot as plt\n",
    "import joblib\n",
    "\n",
    "CLEAN_FILE_PATH = \"data/processed/cleaned_data.csv\"\n",
    "MODEL_PATH_RF = \"models/random_forest_model.joblib\"\n",
    " "
   ]
  },
  {
   "cell_type": "code",
   "execution_count": null,
   "id": "12e7f3f6",
   "metadata": {},
   "outputs": [
    {
     "data": {
      "text/plain": [
       "Loaded dataset with 2063 rows and columns: ['time', 'team', 'event', 'start_x', 'start_y', 'end_x', 'end_y', 'possession_duration', 'zone', 'dist_to_goal', 'possession_streak', 'pass_distance', 'team_encoded', 'event_encoded']\n"
      ]
     },
     "metadata": {},
     "output_type": "display_data"
    }
   ],
   "source": [
    "if not os.path.exists(\"models\"):\n",
    "    raise FileNotFoundError(f\"Cleaned data not found at {CLEAN_FILE_PATH} \")\n",
    "\n",
    "df  = pd.read_csv(CLEAN_FILE_PATH)\n",
    "print(f\"Loaded dataset with {len(df)} rows and columns: {list(df.columns)}\")\n",
    "\n",
    "df.head()"
   ]
  },
  {
   "cell_type": "code",
   "execution_count": null,
   "id": "24e64a24",
   "metadata": {},
   "outputs": [],
   "source": [
    "if \"x_norm\" not in df.columns or \"y_norm\" not in df.columns:\n",
    "    if \"end_x\" in df.columns and \"end_y\" in df.columns:\n",
    "        df[\"x_norm\"] = df[\"end_x\"] / 50.0\n",
    "        df[\"y_norm\"] = df[\"end_y\"] / 25.0\n",
    "\n",
    "if \"team_encoded\" not in df.columns and \"team\" in df.columns:\n",
    "    df[\"team_encoded\"] = df[\"team\"].astype('category').cat.codes\n",
    "\n",
    "if \"event_coded\" not in df.columns and \"event\" in df.columns:\n",
    "    df[\"event_encoded\"] = df[\"event\"].astype('category').cat.codes\n",
    "\n",
    "features = [\"x_norm\", \"y_norm\", \"team_encoded\"]\n",
    "target = \"event_encoded\"\n",
    "\n",
    "x = df[features]\n",
    "y = df[target]\n",
    "\n",
    "x_train, x_test, y_train, y_test = train_test_split(x, y, test_size=0.2, random_state=42)\n"
   ]
  },
  {
   "cell_type": "code",
   "execution_count": null,
   "id": "fe45cc20",
   "metadata": {},
   "outputs": [
    {
     "data": {
      "text/plain": [
       "Random Forest accuracy:  0.6150121065375302\n",
       "              precision    recall  f1-score   support\n",
       "\n",
       "           0       1.00      1.00      1.00        15\n",
       "           1       1.00      1.00      1.00         9\n",
       "           2       0.68      0.71      0.70       240\n",
       "           3       0.31      0.32      0.32        68\n",
       "           4       0.56      0.46      0.50        81\n",
       "\n",
       "    accuracy                           0.62       413\n",
       "   macro avg       0.71      0.70      0.70       413\n",
       "weighted avg       0.61      0.62      0.61       413\n",
       "\n",
       "Random Forest model saved at models/random_forest_model.joblib\n"
      ]
     },
     "metadata": {},
     "output_type": "display_data"
    }
   ],
   "source": [
    "# Training Random Forest Model\n",
    "\n",
    "rf_model = RandomForestClassifier(n_estimators=200, class_weight=\"balanced\", random_state=42)\n",
    "rf_model.fit(x_train, y_train)\n",
    "\n",
    "y_pred = rf_model.predict(x_test)\n",
    "\n",
    "print(\"Random Forest accuracy: \", accuracy_score(y_test, y_pred))\n",
    "print(classification_report(y_test,y_pred))\n",
    "\n",
    "ConfusionMatrixDisplay.from_estimator(rf_model, x_test, y_test)\n",
    "plt.show()\n",
    "\n",
    "os.makedirs(os.path.dirname(MODEL_PATH_RF), exist_ok=True)\n",
    "joblib.dump(rf_model, MODEL_PATH_RF)\n",
    "\n",
    "print(f\"Random Forest model saved at {MODEL_PATH_RF}\")\n"
   ]
  }
 ],
 "metadata": {
  "language_info": {
   "name": "python"
  }
 },
 "nbformat": 4,
 "nbformat_minor": 5
}
